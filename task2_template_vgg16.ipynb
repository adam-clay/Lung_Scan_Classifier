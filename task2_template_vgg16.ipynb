{
 "cells": [
  {
   "cell_type": "markdown",
   "metadata": {
    "nbpresent": {
     "id": "1d234e3f-af8b-4757-83f3-241b04b7a511"
    }
   },
   "source": [
    "# Class Challenge: Image Classification of COVID-19 X-rays\n",
    "# Task 2 [Total points: 30]"
   ]
  },
  {
   "cell_type": "markdown",
   "metadata": {
    "nbpresent": {
     "id": "b07b9992-b592-4871-9f9a-3b0ae5fa8b5f"
    }
   },
   "source": [
    "## Setup\n",
    "\n",
    "* This assignment involves the following packages: 'matplotlib', 'numpy', and 'sklearn'. \n",
    "\n",
    "* If you are using conda, use the following commands to install the above packages:<br>\n",
    "```shell\n",
    "conda install matplotlib\n",
    "conda install numpy\n",
    "conda install -c anaconda scikit-learn\n",
    "```\n",
    "\n",
    "* If you are using pip, use use the following commands to install the above packages: <br> \n",
    "```shell\n",
    "pip install matplotlib\n",
    "pip install numpy\n",
    "pip install sklearn\n",
    "```"
   ]
  },
  {
   "cell_type": "markdown",
   "metadata": {
    "nbpresent": {
     "id": "5516f610-f00c-43c3-bf19-4cf7ab9c089f"
    }
   },
   "source": [
    "## Data\n",
    "\n",
    "Please download the data using the following link: [COVID-19](https://drive.google.com/file/d/1Y88tgqpQ1Pjko_7rntcPowOJs_QNOrJ-/view). \n",
    "\n",
    "* After downloading 'Covid_Data_GradientCrescent.zip', unzip the file and you should see the following data structure:\n",
    "\n",
    "\n",
    "|--all<br>\n",
    "|--------train<br>\n",
    "|--------test<br>\n",
    "|--two<br>\n",
    "|--------train<br>\n",
    "|--------test<br>\n",
    "\n",
    "\n",
    "* Put the 'all' folder, the 'two' folder and this python notebook in the **same directory** so that the following code can correctly locate the data.  \n",
    "\n"
   ]
  },
  {
   "cell_type": "markdown",
   "metadata": {
    "nbpresent": {
     "id": "66140980-2aa4-457f-b1df-74c10c234cc2"
    }
   },
   "source": [
    "## [20 points] Multi-class Classification"
   ]
  },
  {
   "cell_type": "code",
   "execution_count": 1,
   "metadata": {
    "nbpresent": {
     "id": "5e05f980-3d14-4367-b3d1-664249145b13"
    },
    "scrolled": true
   },
   "outputs": [
    {
     "data": {
      "text/plain": [
       "'2.0.0'"
      ]
     },
     "execution_count": 1,
     "metadata": {},
     "output_type": "execute_result"
    }
   ],
   "source": [
    "import os\n",
    "\n",
    "import tensorflow as tf\n",
    "import numpy as np\n",
    "import matplotlib.pyplot as plt\n",
    "from tensorflow.keras.preprocessing.image import ImageDataGenerator\n",
    "from tensorflow.keras.applications import VGG16\n",
    "\n",
    "import warnings\n",
    "warnings.filterwarnings('ignore')\n",
    "\n",
    "os.environ['OMP_NUM_THREADS'] = '1'\n",
    "os.environ['CUDA_VISIBLE_DEVICES'] = '-1'\n",
    "tf.__version__"
   ]
  },
  {
   "cell_type": "markdown",
   "metadata": {
    "nbpresent": {
     "id": "66140980-2aa4-457f-b1df-74c10c234cc2"
    }
   },
   "source": [
    "#### Load Image Data"
   ]
  },
  {
   "cell_type": "code",
   "execution_count": 2,
   "metadata": {
    "nbpresent": {
     "id": "58317664-8da3-4283-b3e5-35721687e7ab"
    }
   },
   "outputs": [],
   "source": [
    "DATA_LIST = os.listdir('all/train')\n",
    "DATASET_PATH  = 'all/train'\n",
    "TEST_DIR =  'all/test'\n",
    "IMAGE_SIZE    = (224, 224)\n",
    "NUM_CLASSES   = len(DATA_LIST)\n",
    "BATCH_SIZE    = 10  # try reducing batch size or freeze more layers if your GPU runs out of memory\n",
    "NUM_EPOCHS    = 100\n",
    "LEARNING_RATE = 0.0001 # start off with high rate first 0.001 and experiment with reducing it gradually "
   ]
  },
  {
   "cell_type": "markdown",
   "metadata": {
    "nbpresent": {
     "id": "66140980-2aa4-457f-b1df-74c10c234cc2"
    }
   },
   "source": [
    "#### Generate Training and Validation Batches"
   ]
  },
  {
   "cell_type": "code",
   "execution_count": 3,
   "metadata": {
    "nbpresent": {
     "id": "71760e29-2b08-4259-93f1-ebe68cd74a6d"
    }
   },
   "outputs": [
    {
     "name": "stdout",
     "output_type": "stream",
     "text": [
      "Found 216 images belonging to 4 classes.\n",
      "Found 54 images belonging to 4 classes.\n"
     ]
    }
   ],
   "source": [
    "train_datagen = ImageDataGenerator(rescale=1./255,rotation_range=50,featurewise_center = True,\n",
    "                                   featurewise_std_normalization = True,width_shift_range=0.2,\n",
    "                                   height_shift_range=0.2,shear_range=0.25,zoom_range=0.1,\n",
    "                                   zca_whitening = True,channel_shift_range = 20,\n",
    "                                   horizontal_flip = True,vertical_flip = True,\n",
    "                                   validation_split = 0.2,fill_mode='constant')\n",
    "\n",
    "\n",
    "train_batches = train_datagen.flow_from_directory(DATASET_PATH,target_size=IMAGE_SIZE,\n",
    "                                                  shuffle=True,batch_size=BATCH_SIZE,\n",
    "                                                  subset = \"training\",seed=42,\n",
    "                                                  class_mode=\"categorical\")\n",
    "\n",
    "valid_batches = train_datagen.flow_from_directory(DATASET_PATH,target_size=IMAGE_SIZE,\n",
    "                                                  shuffle=True,batch_size=BATCH_SIZE,\n",
    "                                                  subset = \"validation\",\n",
    "                                                  seed=42,class_mode=\"categorical\")"
   ]
  },
  {
   "cell_type": "markdown",
   "metadata": {
    "nbpresent": {
     "id": "66140980-2aa4-457f-b1df-74c10c234cc2"
    }
   },
   "source": [
    "#### [10 points] Build Model\n",
    "Hint: Starting from a pre-trained model typically helps performance on a new task, e.g. starting with weights obtained by training on ImageNet. "
   ]
  },
  {
   "cell_type": "code",
   "execution_count": 4,
   "metadata": {
    "nbpresent": {
     "id": "5c52eeb2-1092-4d45-9e16-02219c82cb5e"
    }
   },
   "outputs": [
    {
     "name": "stdout",
     "output_type": "stream",
     "text": [
      "Model: \"sequential\"\n",
      "_________________________________________________________________\n",
      "Layer (type)                 Output Shape              Param #   \n",
      "=================================================================\n",
      "vgg16 (Model)                (None, 7, 7, 512)         14714688  \n",
      "_________________________________________________________________\n",
      "flatten (Flatten)            (None, 25088)             0         \n",
      "_________________________________________________________________\n",
      "dropout (Dropout)            (None, 25088)             0         \n",
      "_________________________________________________________________\n",
      "dense (Dense)                (None, 256)               6422784   \n",
      "_________________________________________________________________\n",
      "dropout_1 (Dropout)          (None, 256)               0         \n",
      "_________________________________________________________________\n",
      "dense_1 (Dense)              (None, 4)                 1028      \n",
      "=================================================================\n",
      "Total params: 21,138,500\n",
      "Trainable params: 6,423,812\n",
      "Non-trainable params: 14,714,688\n",
      "_________________________________________________________________\n"
     ]
    }
   ],
   "source": [
    "vgg_16 = VGG16(weights = 'imagenet', include_top = False, \\\n",
    "              input_shape = (224,224,3), classes = NUM_CLASSES)\n",
    "\n",
    "for layer in vgg_16.layers:\n",
    "    layer.trainable = False\n",
    "\n",
    "model = tf.keras.models.Sequential()\n",
    "\n",
    "model.add(vgg_16)\n",
    "\n",
    "model.add(tf.keras.layers.Flatten())\n",
    "\n",
    "model.add(tf.keras.layers.Dropout(.15))\n",
    "\n",
    "model.add(tf.keras.layers.Dense(256, activation = 'relu'))\n",
    "\n",
    "model.add(tf.keras.layers.Dropout(.15))\n",
    "\n",
    "model.add(tf.keras.layers.Dense(4, activation = 'softmax'))\n",
    "\n",
    "model.summary()"
   ]
  },
  {
   "cell_type": "markdown",
   "metadata": {
    "nbpresent": {
     "id": "66140980-2aa4-457f-b1df-74c10c234cc2"
    }
   },
   "source": [
    "#### [5 points] Train Model"
   ]
  },
  {
   "cell_type": "code",
   "execution_count": 5,
   "metadata": {
    "nbpresent": {
     "id": "cdb90d24-6a23-4969-8138-f37e7050062d"
    },
    "scrolled": true
   },
   "outputs": [
    {
     "name": "stdout",
     "output_type": "stream",
     "text": [
      "22\n",
      "6\n",
      "Train for 21 steps, validate for 5 steps\n",
      "Epoch 1/100\n",
      "21/21 [==============================] - 43s 2s/step - loss: 1.6210 - accuracy: 0.3155 - val_loss: 1.3986 - val_accuracy: 0.3000\n",
      "Epoch 2/100\n",
      "21/21 [==============================] - 41s 2s/step - loss: 1.2517 - accuracy: 0.4806 - val_loss: 1.0832 - val_accuracy: 0.5400\n",
      "Epoch 3/100\n",
      "21/21 [==============================] - 41s 2s/step - loss: 1.1095 - accuracy: 0.4951 - val_loss: 1.1909 - val_accuracy: 0.4200\n",
      "Epoch 4/100\n",
      "21/21 [==============================] - 42s 2s/step - loss: 1.0529 - accuracy: 0.5243 - val_loss: 0.8222 - val_accuracy: 0.6800\n",
      "Epoch 5/100\n",
      "21/21 [==============================] - 42s 2s/step - loss: 0.9475 - accuracy: 0.5631 - val_loss: 0.8431 - val_accuracy: 0.6200\n",
      "Epoch 6/100\n",
      "21/21 [==============================] - 43s 2s/step - loss: 0.9346 - accuracy: 0.6214 - val_loss: 0.8780 - val_accuracy: 0.5800\n",
      "Epoch 7/100\n",
      "21/21 [==============================] - 42s 2s/step - loss: 0.9054 - accuracy: 0.5971 - val_loss: 0.8638 - val_accuracy: 0.6000\n",
      "Epoch 8/100\n",
      "21/21 [==============================] - 42s 2s/step - loss: 0.9127 - accuracy: 0.5777 - val_loss: 0.9160 - val_accuracy: 0.6600\n",
      "Epoch 9/100\n",
      "21/21 [==============================] - 42s 2s/step - loss: 0.8890 - accuracy: 0.6214 - val_loss: 0.7946 - val_accuracy: 0.5800\n",
      "Epoch 10/100\n",
      "21/21 [==============================] - 42s 2s/step - loss: 0.8719 - accuracy: 0.6408 - val_loss: 0.8694 - val_accuracy: 0.6400\n",
      "Epoch 11/100\n",
      "21/21 [==============================] - 42s 2s/step - loss: 0.8330 - accuracy: 0.6262 - val_loss: 0.7485 - val_accuracy: 0.6600\n",
      "Epoch 12/100\n",
      "21/21 [==============================] - 41s 2s/step - loss: 0.8572 - accuracy: 0.5825 - val_loss: 1.1386 - val_accuracy: 0.4200\n",
      "Epoch 13/100\n",
      "21/21 [==============================] - 42s 2s/step - loss: 0.9223 - accuracy: 0.6165 - val_loss: 0.7826 - val_accuracy: 0.6200\n",
      "Epoch 14/100\n",
      "21/21 [==============================] - 41s 2s/step - loss: 0.7888 - accuracy: 0.6456 - val_loss: 0.6932 - val_accuracy: 0.7400\n",
      "Epoch 15/100\n",
      "21/21 [==============================] - 42s 2s/step - loss: 0.7923 - accuracy: 0.6699 - val_loss: 0.7564 - val_accuracy: 0.7200\n",
      "Epoch 16/100\n",
      "21/21 [==============================] - 42s 2s/step - loss: 0.7894 - accuracy: 0.6553 - val_loss: 0.7962 - val_accuracy: 0.5800\n",
      "Epoch 17/100\n",
      "21/21 [==============================] - 42s 2s/step - loss: 0.7226 - accuracy: 0.6619 - val_loss: 0.7776 - val_accuracy: 0.5600\n",
      "Epoch 18/100\n",
      "21/21 [==============================] - 42s 2s/step - loss: 0.8209 - accuracy: 0.6359 - val_loss: 0.6860 - val_accuracy: 0.6400\n",
      "Epoch 19/100\n",
      "21/21 [==============================] - 41s 2s/step - loss: 0.8094 - accuracy: 0.6990 - val_loss: 0.7604 - val_accuracy: 0.6800\n",
      "Epoch 20/100\n",
      "21/21 [==============================] - 42s 2s/step - loss: 0.8412 - accuracy: 0.6505 - val_loss: 0.6594 - val_accuracy: 0.6600\n",
      "Epoch 21/100\n",
      "21/21 [==============================] - 41s 2s/step - loss: 0.7867 - accuracy: 0.6748 - val_loss: 0.7521 - val_accuracy: 0.6000\n",
      "Epoch 22/100\n",
      "21/21 [==============================] - 42s 2s/step - loss: 0.7533 - accuracy: 0.6553 - val_loss: 0.6541 - val_accuracy: 0.7200\n",
      "Epoch 23/100\n",
      "21/21 [==============================] - 43s 2s/step - loss: 0.7498 - accuracy: 0.6602 - val_loss: 0.9234 - val_accuracy: 0.5800\n",
      "Epoch 24/100\n",
      "21/21 [==============================] - 41s 2s/step - loss: 0.7108 - accuracy: 0.7087 - val_loss: 0.6595 - val_accuracy: 0.7600\n",
      "Epoch 25/100\n",
      "21/21 [==============================] - 41s 2s/step - loss: 0.6914 - accuracy: 0.7184 - val_loss: 0.6842 - val_accuracy: 0.7200\n",
      "Epoch 26/100\n",
      "21/21 [==============================] - 41s 2s/step - loss: 0.7146 - accuracy: 0.7039 - val_loss: 0.6423 - val_accuracy: 0.7000\n",
      "Epoch 27/100\n",
      "21/21 [==============================] - 42s 2s/step - loss: 0.7450 - accuracy: 0.6553 - val_loss: 0.7345 - val_accuracy: 0.6600\n",
      "Epoch 28/100\n",
      "21/21 [==============================] - 42s 2s/step - loss: 0.6913 - accuracy: 0.7039 - val_loss: 0.6428 - val_accuracy: 0.6800\n",
      "Epoch 29/100\n",
      "21/21 [==============================] - 42s 2s/step - loss: 0.6565 - accuracy: 0.7427 - val_loss: 0.7027 - val_accuracy: 0.6600\n",
      "Epoch 30/100\n",
      "21/21 [==============================] - 42s 2s/step - loss: 0.6653 - accuracy: 0.7087 - val_loss: 0.6384 - val_accuracy: 0.6800\n",
      "Epoch 31/100\n",
      "21/21 [==============================] - 42s 2s/step - loss: 0.6936 - accuracy: 0.6553 - val_loss: 0.7411 - val_accuracy: 0.6600\n",
      "Epoch 32/100\n",
      "21/21 [==============================] - 42s 2s/step - loss: 0.6637 - accuracy: 0.7039 - val_loss: 0.7090 - val_accuracy: 0.6800\n",
      "Epoch 33/100\n",
      "21/21 [==============================] - 42s 2s/step - loss: 0.6628 - accuracy: 0.7184 - val_loss: 0.6724 - val_accuracy: 0.7200\n",
      "Epoch 34/100\n",
      "21/21 [==============================] - 42s 2s/step - loss: 0.5918 - accuracy: 0.7379 - val_loss: 0.5951 - val_accuracy: 0.7600\n",
      "Epoch 35/100\n",
      "21/21 [==============================] - 42s 2s/step - loss: 0.6532 - accuracy: 0.6942 - val_loss: 0.7520 - val_accuracy: 0.5800\n",
      "Epoch 36/100\n",
      "21/21 [==============================] - 42s 2s/step - loss: 0.7697 - accuracy: 0.6699 - val_loss: 0.6243 - val_accuracy: 0.6000\n",
      "Epoch 37/100\n",
      "21/21 [==============================] - 42s 2s/step - loss: 0.6135 - accuracy: 0.7136 - val_loss: 0.7482 - val_accuracy: 0.6600\n",
      "Epoch 38/100\n",
      "21/21 [==============================] - 42s 2s/step - loss: 0.6073 - accuracy: 0.7621 - val_loss: 0.8030 - val_accuracy: 0.6800\n",
      "Epoch 39/100\n",
      "21/21 [==============================] - 42s 2s/step - loss: 0.6244 - accuracy: 0.7282 - val_loss: 0.6747 - val_accuracy: 0.6400\n",
      "Epoch 40/100\n",
      "21/21 [==============================] - 42s 2s/step - loss: 0.6996 - accuracy: 0.6893 - val_loss: 0.5685 - val_accuracy: 0.7000\n",
      "Epoch 41/100\n",
      "21/21 [==============================] - 42s 2s/step - loss: 0.6312 - accuracy: 0.6942 - val_loss: 0.7275 - val_accuracy: 0.6400\n",
      "Epoch 42/100\n",
      "21/21 [==============================] - 42s 2s/step - loss: 0.6501 - accuracy: 0.7379 - val_loss: 0.7776 - val_accuracy: 0.6000\n",
      "Epoch 43/100\n",
      "21/21 [==============================] - 43s 2s/step - loss: 0.6100 - accuracy: 0.7136 - val_loss: 0.5968 - val_accuracy: 0.7400\n",
      "Epoch 44/100\n",
      "21/21 [==============================] - 42s 2s/step - loss: 0.6887 - accuracy: 0.6893 - val_loss: 0.5643 - val_accuracy: 0.7200\n",
      "Epoch 45/100\n",
      "21/21 [==============================] - 41s 2s/step - loss: 0.5906 - accuracy: 0.7379 - val_loss: 0.6322 - val_accuracy: 0.6600\n",
      "Epoch 46/100\n",
      "21/21 [==============================] - 40s 2s/step - loss: 0.6413 - accuracy: 0.7379 - val_loss: 0.5345 - val_accuracy: 0.7400\n",
      "Epoch 47/100\n",
      "21/21 [==============================] - 40s 2s/step - loss: 0.6501 - accuracy: 0.6990 - val_loss: 0.5876 - val_accuracy: 0.7200\n",
      "Epoch 48/100\n",
      "21/21 [==============================] - 40s 2s/step - loss: 0.6568 - accuracy: 0.6990 - val_loss: 0.5150 - val_accuracy: 0.7600\n",
      "Epoch 49/100\n",
      "21/21 [==============================] - 40s 2s/step - loss: 0.5661 - accuracy: 0.7670 - val_loss: 0.6644 - val_accuracy: 0.7000\n",
      "Epoch 50/100\n",
      "21/21 [==============================] - 40s 2s/step - loss: 0.6743 - accuracy: 0.6942 - val_loss: 0.8371 - val_accuracy: 0.5600\n",
      "Epoch 51/100\n",
      "21/21 [==============================] - 40s 2s/step - loss: 0.6153 - accuracy: 0.7233 - val_loss: 0.6286 - val_accuracy: 0.6600\n",
      "Epoch 52/100\n",
      "21/21 [==============================] - 40s 2s/step - loss: 0.6013 - accuracy: 0.7330 - val_loss: 0.7424 - val_accuracy: 0.6400\n",
      "Epoch 53/100\n",
      "21/21 [==============================] - 40s 2s/step - loss: 0.5491 - accuracy: 0.7524 - val_loss: 0.6933 - val_accuracy: 0.7200\n",
      "Epoch 54/100\n",
      "21/21 [==============================] - 40s 2s/step - loss: 0.6025 - accuracy: 0.7476 - val_loss: 0.7097 - val_accuracy: 0.6400\n",
      "Epoch 55/100\n",
      "21/21 [==============================] - 40s 2s/step - loss: 0.6334 - accuracy: 0.7233 - val_loss: 0.5942 - val_accuracy: 0.6800\n",
      "Epoch 56/100\n",
      "21/21 [==============================] - 40s 2s/step - loss: 0.5855 - accuracy: 0.7718 - val_loss: 0.7060 - val_accuracy: 0.6000\n",
      "Epoch 57/100\n",
      "21/21 [==============================] - 40s 2s/step - loss: 0.6200 - accuracy: 0.7330 - val_loss: 0.7708 - val_accuracy: 0.6000\n",
      "Epoch 58/100\n",
      "21/21 [==============================] - 40s 2s/step - loss: 0.5896 - accuracy: 0.7379 - val_loss: 0.6948 - val_accuracy: 0.6600\n",
      "Epoch 59/100\n",
      "21/21 [==============================] - 40s 2s/step - loss: 0.6957 - accuracy: 0.6990 - val_loss: 0.8085 - val_accuracy: 0.6000\n",
      "Epoch 60/100\n",
      "21/21 [==============================] - 40s 2s/step - loss: 0.6561 - accuracy: 0.6893 - val_loss: 0.7171 - val_accuracy: 0.6200\n",
      "Epoch 61/100\n",
      "21/21 [==============================] - 40s 2s/step - loss: 0.5725 - accuracy: 0.7476 - val_loss: 0.5465 - val_accuracy: 0.7800\n",
      "Epoch 62/100\n",
      "21/21 [==============================] - 41s 2s/step - loss: 0.5941 - accuracy: 0.7233 - val_loss: 0.6772 - val_accuracy: 0.6400\n",
      "Epoch 63/100\n",
      "21/21 [==============================] - 40s 2s/step - loss: 0.6341 - accuracy: 0.7282 - val_loss: 0.6762 - val_accuracy: 0.7000\n",
      "Epoch 64/100\n",
      "21/21 [==============================] - 40s 2s/step - loss: 0.6483 - accuracy: 0.7136 - val_loss: 0.7546 - val_accuracy: 0.6600\n",
      "Epoch 65/100\n",
      "21/21 [==============================] - 40s 2s/step - loss: 0.5655 - accuracy: 0.7670 - val_loss: 0.6251 - val_accuracy: 0.6200\n",
      "Epoch 66/100\n",
      "21/21 [==============================] - 40s 2s/step - loss: 0.6497 - accuracy: 0.7136 - val_loss: 0.8051 - val_accuracy: 0.6200\n",
      "Epoch 67/100\n",
      "21/21 [==============================] - 41s 2s/step - loss: 0.6063 - accuracy: 0.7286 - val_loss: 0.6971 - val_accuracy: 0.6600\n",
      "Epoch 68/100\n",
      "21/21 [==============================] - 40s 2s/step - loss: 0.6359 - accuracy: 0.7039 - val_loss: 0.6900 - val_accuracy: 0.6400\n",
      "Epoch 69/100\n",
      "21/21 [==============================] - 40s 2s/step - loss: 0.6006 - accuracy: 0.7233 - val_loss: 0.6803 - val_accuracy: 0.7400\n",
      "Epoch 70/100\n",
      "21/21 [==============================] - 40s 2s/step - loss: 0.5466 - accuracy: 0.7864 - val_loss: 0.7081 - val_accuracy: 0.5800\n",
      "Epoch 71/100\n",
      "21/21 [==============================] - 40s 2s/step - loss: 0.5413 - accuracy: 0.7767 - val_loss: 0.7151 - val_accuracy: 0.6400\n",
      "Epoch 72/100\n",
      "21/21 [==============================] - 40s 2s/step - loss: 0.5536 - accuracy: 0.7379 - val_loss: 0.6417 - val_accuracy: 0.6400\n",
      "Epoch 73/100\n",
      "21/21 [==============================] - 40s 2s/step - loss: 0.5639 - accuracy: 0.7427 - val_loss: 0.5678 - val_accuracy: 0.7000\n",
      "Epoch 74/100\n",
      "21/21 [==============================] - 40s 2s/step - loss: 0.5044 - accuracy: 0.7670 - val_loss: 0.5192 - val_accuracy: 0.7800\n",
      "Epoch 75/100\n",
      "21/21 [==============================] - 40s 2s/step - loss: 0.5901 - accuracy: 0.7379 - val_loss: 0.6130 - val_accuracy: 0.6800\n",
      "Epoch 76/100\n",
      "21/21 [==============================] - 40s 2s/step - loss: 0.5891 - accuracy: 0.7667 - val_loss: 0.5868 - val_accuracy: 0.7200\n",
      "Epoch 77/100\n",
      "21/21 [==============================] - 40s 2s/step - loss: 0.5138 - accuracy: 0.7961 - val_loss: 0.5782 - val_accuracy: 0.7000\n",
      "Epoch 78/100\n",
      "21/21 [==============================] - 40s 2s/step - loss: 0.5507 - accuracy: 0.7427 - val_loss: 0.5624 - val_accuracy: 0.7200\n",
      "Epoch 79/100\n",
      "21/21 [==============================] - 40s 2s/step - loss: 0.5545 - accuracy: 0.7524 - val_loss: 0.7437 - val_accuracy: 0.6800\n",
      "Epoch 80/100\n",
      "21/21 [==============================] - 40s 2s/step - loss: 0.5312 - accuracy: 0.7621 - val_loss: 0.6433 - val_accuracy: 0.6600\n",
      "Epoch 81/100\n",
      "21/21 [==============================] - 40s 2s/step - loss: 0.5174 - accuracy: 0.7816 - val_loss: 0.6806 - val_accuracy: 0.7200\n",
      "Epoch 82/100\n",
      "21/21 [==============================] - 40s 2s/step - loss: 0.5423 - accuracy: 0.7816 - val_loss: 0.6352 - val_accuracy: 0.6600\n",
      "Epoch 83/100\n",
      "21/21 [==============================] - 40s 2s/step - loss: 0.5725 - accuracy: 0.7427 - val_loss: 0.7006 - val_accuracy: 0.6600\n",
      "Epoch 84/100\n",
      "21/21 [==============================] - 40s 2s/step - loss: 0.5863 - accuracy: 0.7667 - val_loss: 0.8682 - val_accuracy: 0.6600\n",
      "Epoch 85/100\n",
      "21/21 [==============================] - 40s 2s/step - loss: 0.5778 - accuracy: 0.7184 - val_loss: 0.5547 - val_accuracy: 0.7600\n",
      "Epoch 86/100\n",
      "21/21 [==============================] - 41s 2s/step - loss: 0.5525 - accuracy: 0.7524 - val_loss: 0.5555 - val_accuracy: 0.7400\n",
      "Epoch 87/100\n",
      "21/21 [==============================] - 43s 2s/step - loss: 0.5216 - accuracy: 0.7379 - val_loss: 0.6349 - val_accuracy: 0.7200\n",
      "Epoch 88/100\n",
      "21/21 [==============================] - 43s 2s/step - loss: 0.5903 - accuracy: 0.7816 - val_loss: 0.6590 - val_accuracy: 0.6400\n",
      "Epoch 89/100\n",
      "21/21 [==============================] - 43s 2s/step - loss: 0.5396 - accuracy: 0.7718 - val_loss: 0.6070 - val_accuracy: 0.7200\n",
      "Epoch 90/100\n",
      "21/21 [==============================] - 41s 2s/step - loss: 0.5673 - accuracy: 0.7767 - val_loss: 0.8071 - val_accuracy: 0.6800\n",
      "Epoch 91/100\n",
      "21/21 [==============================] - 41s 2s/step - loss: 0.5456 - accuracy: 0.7718 - val_loss: 0.5808 - val_accuracy: 0.7000\n",
      "Epoch 92/100\n",
      "21/21 [==============================] - 42s 2s/step - loss: 0.5282 - accuracy: 0.7670 - val_loss: 0.5993 - val_accuracy: 0.7000\n",
      "Epoch 93/100\n",
      "21/21 [==============================] - 40s 2s/step - loss: 0.5262 - accuracy: 0.7670 - val_loss: 0.6257 - val_accuracy: 0.7400\n",
      "Epoch 94/100\n",
      "21/21 [==============================] - 40s 2s/step - loss: 0.5158 - accuracy: 0.7864 - val_loss: 0.6485 - val_accuracy: 0.7600\n",
      "Epoch 95/100\n",
      "21/21 [==============================] - 40s 2s/step - loss: 0.5598 - accuracy: 0.7621 - val_loss: 0.6381 - val_accuracy: 0.7200\n",
      "Epoch 96/100\n",
      "21/21 [==============================] - 40s 2s/step - loss: 0.5960 - accuracy: 0.7670 - val_loss: 0.7249 - val_accuracy: 0.6600\n",
      "Epoch 97/100\n",
      "21/21 [==============================] - 40s 2s/step - loss: 0.5326 - accuracy: 0.7961 - val_loss: 0.5950 - val_accuracy: 0.7000\n",
      "Epoch 98/100\n",
      "21/21 [==============================] - 40s 2s/step - loss: 0.5015 - accuracy: 0.7857 - val_loss: 0.5541 - val_accuracy: 0.7400\n",
      "Epoch 99/100\n",
      "21/21 [==============================] - 40s 2s/step - loss: 0.4870 - accuracy: 0.7767 - val_loss: 0.5927 - val_accuracy: 0.7200\n",
      "Epoch 100/100\n",
      "21/21 [==============================] - 40s 2s/step - loss: 0.5426 - accuracy: 0.7718 - val_loss: 0.6829 - val_accuracy: 0.6200\n"
     ]
    }
   ],
   "source": [
    "#FIT MODEL\n",
    "print(len(train_batches))\n",
    "print(len(valid_batches))\n",
    "\n",
    "STEP_SIZE_TRAIN=train_batches.n//train_batches.batch_size\n",
    "STEP_SIZE_VALID=valid_batches.n//valid_batches.batch_size\n",
    "\n",
    "OPTIMIZER = tf.keras.optimizers.Adam(learning_rate = LEARNING_RATE)\n",
    "\n",
    "model.compile(optimizer = OPTIMIZER, \\\n",
    "                loss=tf.keras.losses.CategoricalCrossentropy(), \\\n",
    "                metrics=['accuracy'])\n",
    "\n",
    "\n",
    "history = model.fit(train_batches, steps_per_epoch = STEP_SIZE_TRAIN, \\\n",
    "                    epochs = NUM_EPOCHS, validation_data = valid_batches, \\\n",
    "                    validation_steps = STEP_SIZE_VALID)"
   ]
  },
  {
   "cell_type": "markdown",
   "metadata": {
    "nbpresent": {
     "id": "66140980-2aa4-457f-b1df-74c10c234cc2"
    }
   },
   "source": [
    "#### [5 points] Plot Accuracy and Loss During Training"
   ]
  },
  {
   "cell_type": "code",
   "execution_count": 6,
   "metadata": {
    "nbpresent": {
     "id": "ff342098-784a-4e20-ac34-b74ca8ebe839"
    }
   },
   "outputs": [
    {
     "data": {
      "image/png": "[encoded data removed]",
      "text/plain": [
       "<Figure size 864x288 with 2 Axes>"
      ]
     },
     "metadata": {
      "needs_background": "light"
     },
     "output_type": "display_data"
    }
   ],
   "source": [
    "import matplotlib.pyplot as plt\n",
    "\n",
    "plt.figure(figsize = (12,4))\n",
    "\n",
    "plt.subplot(1, 2, 1)\n",
    "plt.grid()\n",
    "plt.plot(history.history['accuracy'], label='Train_acc')\n",
    "plt.plot(history.history['val_accuracy'], label = 'Val_acc')\n",
    "plt.title(\"Accuracy over 100 Epochs\")\n",
    "plt.legend(loc='upper left')\n",
    "\n",
    "plt.subplot(1, 2, 2)\n",
    "plt.grid()\n",
    "plt.plot(history.history['loss'], label='Train_loss')\n",
    "plt.plot(history.history['val_loss'], label = 'Val_loss')\n",
    "plt.title(\"Loss over 100 Epochs\")\n",
    "plt.legend(loc='upper right')\n",
    "\n",
    "plt.tight_layout()\n",
    "plt.show()"
   ]
  },
  {
   "cell_type": "markdown",
   "metadata": {
    "nbpresent": {
     "id": "66140980-2aa4-457f-b1df-74c10c234cc2"
    }
   },
   "source": [
    "#### Testing Model"
   ]
  },
  {
   "cell_type": "code",
   "execution_count": 10,
   "metadata": {},
   "outputs": [
    {
     "name": "stdout",
     "output_type": "stream",
     "text": [
      "Found 36 images belonging to 4 classes.\n",
      "36\n",
      "36/36 [==============================] - 6s 179ms/step - loss: 0.7886 - accuracy: 0.6667\n",
      "Test loss: 0.7885822096375503\n",
      "Test accuracy: 0.6666667\n"
     ]
    }
   ],
   "source": [
    "test_datagen = ImageDataGenerator(rescale=1. / 255)\n",
    "\n",
    "eval_generator = test_datagen.flow_from_directory(TEST_DIR,target_size=IMAGE_SIZE,\n",
    "                                                  batch_size=1,shuffle=True,seed=42,class_mode=\"categorical\")\n",
    "eval_generator.reset()\n",
    "print(len(eval_generator))\n",
    "x = model.evaluate_generator(eval_generator,steps = np.ceil(len(eval_generator)),\n",
    "                           use_multiprocessing = False,verbose = 1,workers=1)\n",
    "print('Test loss:' , x[0])\n",
    "print('Test accuracy:',x[1])"
   ]
  },
  {
   "cell_type": "markdown",
   "metadata": {
    "nbpresent": {
     "id": "66140980-2aa4-457f-b1df-74c10c234cc2"
    }
   },
   "source": [
    "## [10 points] TSNE Plot\n",
    "t-Distributed Stochastic Neighbor Embedding (t-SNE) is a widely used technique for dimensionality reduction that is particularly well suited for the visualization of high-dimensional datasets. After training is complete, extract features from a specific deep layer of your choice, use t-SNE to reduce the dimensionality of your extracted features to 2 dimensions and plot the resulting 2D features."
   ]
  },
  {
   "cell_type": "code",
   "execution_count": 8,
   "metadata": {},
   "outputs": [
    {
     "name": "stdout",
     "output_type": "stream",
     "text": [
      "Found 270 images belonging to 4 classes.\n"
     ]
    },
    {
     "data": {
      "image/png": "[encoded data removed]",
      "text/plain": [
       "<Figure size 432x288 with 1 Axes>"
      ]
     },
     "metadata": {
      "needs_background": "light"
     },
     "output_type": "display_data"
    }
   ],
   "source": [
    "from sklearn.manifold import TSNE\n",
    "\n",
    "intermediate_layer_model = tf.keras.models.Model(inputs=model.input, \\\n",
    "                                        outputs=model.get_layer('dense').output)\n",
    "\n",
    "tsne_eval_generator = test_datagen.flow_from_directory(DATASET_PATH,target_size=IMAGE_SIZE, \\\n",
    "                                                  batch_size=1,shuffle=False,seed=42,class_mode=\"categorical\")\n",
    "\n",
    "features = intermediate_layer_model.predict_generator(tsne_eval_generator)\n",
    "\n",
    "labels = tsne_eval_generator.labels\n",
    "\n",
    "tsne = TSNE(perplexity = 75, learning_rate = 80).fit_transform(features)\n",
    "\n",
    "for i in range(len(tsne)):\n",
    "    if labels[i] == 0: \n",
    "        # covid\n",
    "        c = plt.scatter(tsne[:,0][i], tsne[:,1][i], color = 'blue')\n",
    "    elif labels[i] == 1:\n",
    "        # normal\n",
    "        n = plt.scatter(tsne[:,0][i], tsne[:,1][i], color = 'orange')\n",
    "    elif labels[i] == 2:\n",
    "        # pneumonia_bac\n",
    "        pb = plt.scatter(tsne[:,0][i], tsne[:,1][i], color = 'green')\n",
    "    else:\n",
    "        # pneumonia_vir\n",
    "        pv = plt.scatter(tsne[:,0][i], tsne[:,1][i], color = 'red')               \n",
    "\n",
    "plt.legend((c, n, pb, pv), (\"COVID-19\", \"Normal\", \"Pneumonia_Bac\", \\\n",
    "                            \"Pneumonia_Vir\"))\n",
    "\n",
    "plt.show()"
   ]
  }
 ],
 "metadata": {
  "kernelspec": {
   "display_name": "Python 3",
   "language": "python",
   "name": "python3"
  },
  "language_info": {
   "codemirror_mode": {
    "name": "ipython",
    "version": 3
   },
   "file_extension": ".py",
   "mimetype": "text/x-python",
   "name": "python",
   "nbconvert_exporter": "python",
   "pygments_lexer": "ipython3",
   "version": "3.7.4"
  },
  "latex_envs": {
   "LaTeX_envs_menu_present": true,
   "autoclose": false,
   "autocomplete": true,
   "bibliofile": "biblio.bib",
   "cite_by": "apalike",
   "current_citInitial": 1,
   "eqLabelWithNumbers": true,
   "eqNumInitial": 1,
   "hotkeys": {
    "equation": "Ctrl-E",
    "itemize": "Ctrl-I"
   },
   "labels_anchors": false,
   "latex_user_defs": false,
   "report_style_numbering": false,
   "user_envs_cfg": false
  },
  "toc": {
   "base_numbering": 1,
   "nav_menu": {},
   "number_sections": true,
   "sideBar": true,
   "skip_h1_title": false,
   "title_cell": "Table of Contents",
   "title_sidebar": "Contents",
   "toc_cell": false,
   "toc_position": {},
   "toc_section_display": true,
   "toc_window_display": false
  },
  "varInspector": {
   "cols": {
    "lenName": 16,
    "lenType": 16,
    "lenVar": 40
   },
   "kernels_config": {
    "python": {
     "delete_cmd_postfix": "",
     "delete_cmd_prefix": "del ",
     "library": "var_list.py",
     "varRefreshCmd": "print(var_dic_list())"
    },
    "r": {
     "delete_cmd_postfix": ") ",
     "delete_cmd_prefix": "rm(",
     "library": "var_list.r",
     "varRefreshCmd": "cat(var_dic_list()) "
    }
   },
   "types_to_exclude": [
    "module",
    "function",
    "builtin_function_or_method",
    "instance",
    "_Feature"
   ],
   "window_display": false
  }
 },
 "nbformat": 4,
 "nbformat_minor": 4
}
